{
 "cells": [
  {
   "cell_type": "code",
   "execution_count": null,
   "metadata": {},
   "outputs": [],
   "source": [
    "grid=[[5,3,0,0,7,0,0,0,0],\n",
    "      [6,0,0,1,9,5,0,0,0],\n",
    "      [0,9,8,0,0,0,0,6,0],\n",
    "      [8,0,0,0,6,0,0,0,3],\n",
    "      [4,0,0,8,0,3,0,0,1],\n",
    "      [7,0,0,0,2,0,0,0,6],\n",
    "      [0,6,0,0,0,0,2,8,0],\n",
    "      [0,0,0,4,1,9,0,0,5],\n",
    "      [0,0,0,0,8,0,0,7,9]]\n",
    "    "
   ]
  },
  {
   "cell_type": "code",
   "execution_count": 12,
   "metadata": {},
   "outputs": [],
   "source": []
  },
  {
   "cell_type": "code",
   "execution_count": null,
   "metadata": {},
   "outputs": [],
   "source": []
  },
  {
   "cell_type": "code",
   "execution_count": null,
   "metadata": {},
   "outputs": [],
   "source": []
  },
  {
   "cell_type": "code",
   "execution_count": 4,
   "metadata": {},
   "outputs": [
    {
     "data": {
      "text/plain": [
       "[[5, 3, 0, 0, 7, 0, 0, 0, 0],\n",
       " [6, 0, 0, 1, 9, 5, 0, 0, 0],\n",
       " [0, 9, 8, 0, 0, 0, 0, 6, 0],\n",
       " [8, 0, 0, 0, 6, 0, 0, 0, 3],\n",
       " [4, 0, 0, 8, 0, 3, 0, 0, 1],\n",
       " [7, 0, 0, 0, 2, 0, 0, 0, 6],\n",
       " [0, 6, 0, 0, 0, 0, 2, 8, 0],\n",
       " [0, 0, 0, 4, 1, 9, 0, 0, 5],\n",
       " [0, 0, 0, 0, 8, 0, 0, 7, 9]]"
      ]
     },
     "execution_count": 4,
     "metadata": {},
     "output_type": "execute_result"
    }
   ],
   "source": [
    "grid"
   ]
  },
  {
   "cell_type": "code",
   "execution_count": null,
   "metadata": {},
   "outputs": [],
   "source": []
  },
  {
   "cell_type": "code",
   "execution_count": 5,
   "metadata": {},
   "outputs": [],
   "source": [
    "import numpy as np"
   ]
  },
  {
   "cell_type": "code",
   "execution_count": 6,
   "metadata": {},
   "outputs": [
    {
     "name": "stdout",
     "output_type": "stream",
     "text": [
      "[[5 3 0 0 7 0 0 0 0]\n",
      " [6 0 0 1 9 5 0 0 0]\n",
      " [0 9 8 0 0 0 0 6 0]\n",
      " [8 0 0 0 6 0 0 0 3]\n",
      " [4 0 0 8 0 3 0 0 1]\n",
      " [7 0 0 0 2 0 0 0 6]\n",
      " [0 6 0 0 0 0 2 8 0]\n",
      " [0 0 0 4 1 9 0 0 5]\n",
      " [0 0 0 0 8 0 0 7 9]]\n"
     ]
    }
   ],
   "source": [
    "print(np.matrix(grid))"
   ]
  },
  {
   "cell_type": "code",
   "execution_count": 41,
   "metadata": {},
   "outputs": [],
   "source": [
    "def allowed (grid,y,x,guess):\n",
    "    for i in range(9): \n",
    "        if grid[y][i]==guess or grid[i][x]==guess: return False\n",
    "    for i in range(3):\n",
    "        for j in range (3):\n",
    "            if grid[y//3*3+i][x//3*3+j]==guess: return False\n",
    "    return True\n",
    "            \n",
    "    "
   ]
  },
  {
   "cell_type": "code",
   "execution_count": null,
   "metadata": {},
   "outputs": [],
   "source": []
  },
  {
   "cell_type": "code",
   "execution_count": null,
   "metadata": {},
   "outputs": [],
   "source": []
  },
  {
   "cell_type": "code",
   "execution_count": null,
   "metadata": {},
   "outputs": [],
   "source": []
  },
  {
   "cell_type": "code",
   "execution_count": null,
   "metadata": {},
   "outputs": [],
   "source": []
  },
  {
   "cell_type": "code",
   "execution_count": null,
   "metadata": {},
   "outputs": [],
   "source": []
  },
  {
   "cell_type": "code",
   "execution_count": 42,
   "metadata": {
    "scrolled": false
   },
   "outputs": [
    {
     "name": "stdout",
     "output_type": "stream",
     "text": [
      "[[3 4 5 6 7 8 9 1 2]\n",
      " [6 7 2 1 9 5 3 4 8]\n",
      " [1 9 8 3 4 2 5 6 7]\n",
      " [8 5 9 7 6 1 4 2 3]\n",
      " [4 2 6 8 5 3 7 9 1]\n",
      " [7 1 3 9 2 4 8 5 6]\n",
      " [9 6 1 5 3 7 2 8 4]\n",
      " [2 8 7 4 1 9 6 3 5]\n",
      " [5 3 4 2 8 6 1 7 9]]\n",
      "\n",
      "[[5 3 4 6 7 8 9 1 2]\n",
      " [6 7 2 1 9 5 3 4 8]\n",
      " [1 9 8 3 4 2 5 6 7]\n",
      " [8 5 9 7 6 1 4 2 3]\n",
      " [4 2 6 8 5 3 7 9 1]\n",
      " [7 1 3 9 2 4 8 5 6]\n",
      " [9 6 1 5 3 7 2 8 4]\n",
      " [2 8 7 4 1 9 6 3 5]\n",
      " [3 4 5 2 8 6 1 7 9]]\n",
      "\n"
     ]
    }
   ],
   "source": [
    "solve(grid)\n",
    "    "
   ]
  },
  {
   "cell_type": "code",
   "execution_count": null,
   "metadata": {},
   "outputs": [],
   "source": []
  },
  {
   "cell_type": "code",
   "execution_count": null,
   "metadata": {},
   "outputs": [],
   "source": []
  },
  {
   "cell_type": "code",
   "execution_count": null,
   "metadata": {},
   "outputs": [],
   "source": []
  },
  {
   "cell_type": "code",
   "execution_count": null,
   "metadata": {},
   "outputs": [],
   "source": []
  },
  {
   "cell_type": "code",
   "execution_count": null,
   "metadata": {},
   "outputs": [],
   "source": []
  },
  {
   "cell_type": "code",
   "execution_count": null,
   "metadata": {},
   "outputs": [],
   "source": []
  },
  {
   "cell_type": "code",
   "execution_count": null,
   "metadata": {},
   "outputs": [],
   "source": []
  },
  {
   "cell_type": "code",
   "execution_count": null,
   "metadata": {},
   "outputs": [],
   "source": []
  },
  {
   "cell_type": "code",
   "execution_count": 37,
   "metadata": {},
   "outputs": [],
   "source": [
    "import numpy as np\n",
    "def solve(grid):\n",
    "    for y in range(9): \n",
    "        for x in range(9):\n",
    "            if grid[y][x]==0: \n",
    "                for guess in range(1,10):\n",
    "                    if allowed(grid,y,x,guess): \n",
    "                        grid[y][x]=guess\n",
    "                        solve(grid)\n",
    "                        grid[y][x]=0\n",
    "                return\n",
    "    print(np.matrix(grid));print"
   ]
  },
  {
   "cell_type": "code",
   "execution_count": null,
   "metadata": {},
   "outputs": [],
   "source": []
  },
  {
   "cell_type": "code",
   "execution_count": null,
   "metadata": {},
   "outputs": [],
   "source": []
  },
  {
   "cell_type": "code",
   "execution_count": null,
   "metadata": {},
   "outputs": [],
   "source": []
  },
  {
   "cell_type": "code",
   "execution_count": null,
   "metadata": {},
   "outputs": [],
   "source": []
  },
  {
   "cell_type": "code",
   "execution_count": 28,
   "metadata": {},
   "outputs": [],
   "source": [
    "grid=[[5,3,0,0,7,0,0,0,0],\n",
    "      [6,0,0,1,9,5,0,0,0],\n",
    "      [0,9,8,0,0,0,0,6,0],\n",
    "      [8,0,0,0,6,0,0,0,3],\n",
    "      [4,0,0,8,0,3,0,0,1],\n",
    "      [7,0,0,0,2,0,0,0,6],\n",
    "      [0,6,0,0,0,0,2,8,0],\n",
    "      [0,0,0,4,1,9,0,0,5],\n",
    "      [0,0,0,0,8,0,0,7,9]]"
   ]
  },
  {
   "cell_type": "code",
   "execution_count": null,
   "metadata": {},
   "outputs": [],
   "source": []
  },
  {
   "cell_type": "code",
   "execution_count": 38,
   "metadata": {
    "scrolled": true
   },
   "outputs": [
    {
     "name": "stdout",
     "output_type": "stream",
     "text": [
      "[[3 4 5 6 7 8 9 1 2]\n",
      " [6 7 2 1 9 5 3 4 8]\n",
      " [1 9 8 3 4 2 5 6 7]\n",
      " [8 5 9 7 6 1 4 2 3]\n",
      " [4 2 6 8 5 3 7 9 1]\n",
      " [7 1 3 9 2 4 8 5 6]\n",
      " [9 6 1 5 3 7 2 8 4]\n",
      " [2 8 7 4 1 9 6 3 5]\n",
      " [5 3 4 2 8 6 1 7 9]]\n",
      "\n",
      "[[5 3 4 6 7 8 9 1 2]\n",
      " [6 7 2 1 9 5 3 4 8]\n",
      " [1 9 8 3 4 2 5 6 7]\n",
      " [8 5 9 7 6 1 4 2 3]\n",
      " [4 2 6 8 5 3 7 9 1]\n",
      " [7 1 3 9 2 4 8 5 6]\n",
      " [9 6 1 5 3 7 2 8 4]\n",
      " [2 8 7 4 1 9 6 3 5]\n",
      " [3 4 5 2 8 6 1 7 9]]\n",
      "\n"
     ]
    }
   ],
   "source": [
    "solve(grid)"
   ]
  },
  {
   "cell_type": "code",
   "execution_count": null,
   "metadata": {},
   "outputs": [],
   "source": []
  },
  {
   "cell_type": "code",
   "execution_count": null,
   "metadata": {},
   "outputs": [],
   "source": []
  },
  {
   "cell_type": "code",
   "execution_count": 17,
   "metadata": {},
   "outputs": [],
   "source": [
    "grid=[[5,3,0,0,7,0,0,0,0],\n",
    "      [6,0,0,1,9,5,0,0,0],\n",
    "      [0,9,8,0,0,0,0,6,0],\n",
    "      [8,0,0,0,6,0,0,0,3],\n",
    "      [4,0,0,8,0,3,0,0,1],\n",
    "      [7,0,0,0,2,0,0,0,6],\n",
    "      [0,6,0,0,0,0,2,8,0],\n",
    "      [0,0,0,4,1,9,0,0,5],\n",
    "      [0,0,0,0,8,0,0,0,0]]"
   ]
  },
  {
   "cell_type": "code",
   "execution_count": 20,
   "metadata": {},
   "outputs": [
    {
     "name": "stdout",
     "output_type": "stream",
     "text": [
      "[[5 3 4 6 7 8 1 9 2]\n",
      " [6 7 2 1 9 5 3 4 8]\n",
      " [1 9 8 3 4 2 5 6 7]\n",
      " [8 5 9 7 6 1 4 2 3]\n",
      " [4 2 6 8 5 3 9 7 1]\n",
      " [7 1 3 9 2 4 8 5 6]\n",
      " [9 6 1 5 3 7 2 8 4]\n",
      " [2 8 7 4 1 9 6 3 5]\n",
      " [3 4 5 2 8 6 7 1 9]]\n",
      "\n",
      "[[5 3 4 6 7 8 9 1 2]\n",
      " [6 7 2 1 9 5 3 4 8]\n",
      " [1 9 8 3 4 2 5 6 7]\n",
      " [8 5 9 7 6 1 4 2 3]\n",
      " [4 2 6 8 5 3 7 9 1]\n",
      " [7 1 3 9 2 4 8 5 6]\n",
      " [9 6 1 5 3 7 2 8 4]\n",
      " [2 8 7 4 1 9 6 3 5]\n",
      " [3 4 5 2 8 6 1 7 9]]\n",
      "\n"
     ]
    }
   ],
   "source": [
    "solve(grid)"
   ]
  },
  {
   "cell_type": "code",
   "execution_count": null,
   "metadata": {},
   "outputs": [],
   "source": []
  },
  {
   "cell_type": "code",
   "execution_count": null,
   "metadata": {},
   "outputs": [],
   "source": []
  },
  {
   "cell_type": "code",
   "execution_count": 30,
   "metadata": {},
   "outputs": [],
   "source": [
    "grid=[[0,0,0,0,0,0,0,0,0],\n",
    "      [6,0,0,1,9,5,0,0,0],\n",
    "      [0,9,8,0,0,0,0,6,0],\n",
    "      [8,0,0,0,6,0,0,0,3],\n",
    "      [4,0,0,8,0,3,0,0,1],\n",
    "      [7,0,0,0,2,0,0,0,6],\n",
    "      [0,6,0,0,0,0,2,8,0],\n",
    "      [0,0,0,4,1,9,0,0,5],\n",
    "      [0,0,0,0,8,0,0,7,9]]\n",
    "    "
   ]
  },
  {
   "cell_type": "code",
   "execution_count": null,
   "metadata": {},
   "outputs": [],
   "source": []
  },
  {
   "cell_type": "code",
   "execution_count": null,
   "metadata": {},
   "outputs": [],
   "source": []
  },
  {
   "cell_type": "code",
   "execution_count": 31,
   "metadata": {},
   "outputs": [
    {
     "name": "stdout",
     "output_type": "stream",
     "text": [
      "[[3 4 5 6 7 8 9 1 2]\n",
      " [6 7 2 1 9 5 3 4 8]\n",
      " [1 9 8 3 4 2 5 6 7]\n",
      " [8 5 9 7 6 1 4 2 3]\n",
      " [4 2 6 8 5 3 7 9 1]\n",
      " [7 1 3 9 2 4 8 5 6]\n",
      " [9 6 1 5 3 7 2 8 4]\n",
      " [2 8 7 4 1 9 6 3 5]\n",
      " [5 3 4 2 8 6 1 7 9]]\n",
      "\n",
      "[[5 3 4 6 7 8 9 1 2]\n",
      " [6 7 2 1 9 5 3 4 8]\n",
      " [1 9 8 3 4 2 5 6 7]\n",
      " [8 5 9 7 6 1 4 2 3]\n",
      " [4 2 6 8 5 3 7 9 1]\n",
      " [7 1 3 9 2 4 8 5 6]\n",
      " [9 6 1 5 3 7 2 8 4]\n",
      " [2 8 7 4 1 9 6 3 5]\n",
      " [3 4 5 2 8 6 1 7 9]]\n",
      "\n"
     ]
    }
   ],
   "source": [
    "solve(grid)"
   ]
  },
  {
   "cell_type": "code",
   "execution_count": null,
   "metadata": {},
   "outputs": [],
   "source": []
  },
  {
   "cell_type": "code",
   "execution_count": null,
   "metadata": {},
   "outputs": [],
   "source": []
  },
  {
   "cell_type": "code",
   "execution_count": null,
   "metadata": {},
   "outputs": [],
   "source": []
  },
  {
   "cell_type": "code",
   "execution_count": null,
   "metadata": {},
   "outputs": [],
   "source": []
  },
  {
   "cell_type": "code",
   "execution_count": null,
   "metadata": {},
   "outputs": [],
   "source": []
  },
  {
   "cell_type": "code",
   "execution_count": 21,
   "metadata": {},
   "outputs": [],
   "source": [
    "import requests"
   ]
  },
  {
   "cell_type": "code",
   "execution_count": null,
   "metadata": {},
   "outputs": [],
   "source": []
  },
  {
   "cell_type": "code",
   "execution_count": 25,
   "metadata": {},
   "outputs": [],
   "source": [
    "page = requests.get(\"https://nine.websudoku.com/?set_id=610926282\")"
   ]
  },
  {
   "cell_type": "code",
   "execution_count": null,
   "metadata": {},
   "outputs": [],
   "source": []
  },
  {
   "cell_type": "code",
   "execution_count": null,
   "metadata": {},
   "outputs": [],
   "source": []
  },
  {
   "cell_type": "code",
   "execution_count": null,
   "metadata": {},
   "outputs": [],
   "source": []
  },
  {
   "cell_type": "code",
   "execution_count": null,
   "metadata": {},
   "outputs": [],
   "source": []
  },
  {
   "cell_type": "code",
   "execution_count": null,
   "metadata": {},
   "outputs": [],
   "source": []
  },
  {
   "cell_type": "code",
   "execution_count": null,
   "metadata": {},
   "outputs": [],
   "source": []
  },
  {
   "cell_type": "code",
   "execution_count": null,
   "metadata": {},
   "outputs": [],
   "source": []
  },
  {
   "cell_type": "code",
   "execution_count": 26,
   "metadata": {},
   "outputs": [
    {
     "data": {
      "text/plain": [
       "<Response [200]>"
      ]
     },
     "execution_count": 26,
     "metadata": {},
     "output_type": "execute_result"
    }
   ],
   "source": [
    "page"
   ]
  },
  {
   "cell_type": "code",
   "execution_count": 33,
   "metadata": {},
   "outputs": [
    {
     "data": {
      "text/plain": [
       "[0, 1, 2, 3, 4, 5, 6, 7, 8]"
      ]
     },
     "execution_count": 33,
     "metadata": {},
     "output_type": "execute_result"
    }
   ],
   "source": [
    "range(9)"
   ]
  },
  {
   "cell_type": "code",
   "execution_count": 34,
   "metadata": {},
   "outputs": [
    {
     "data": {
      "text/plain": [
       "[0, 1, 2, 3, 4, 5, 6, 7, 8]"
      ]
     },
     "execution_count": 34,
     "metadata": {},
     "output_type": "execute_result"
    }
   ],
   "source": [
    "range(0,9)"
   ]
  },
  {
   "cell_type": "code",
   "execution_count": null,
   "metadata": {},
   "outputs": [],
   "source": []
  },
  {
   "cell_type": "code",
   "execution_count": null,
   "metadata": {},
   "outputs": [],
   "source": []
  },
  {
   "cell_type": "code",
   "execution_count": null,
   "metadata": {},
   "outputs": [],
   "source": []
  },
  {
   "cell_type": "code",
   "execution_count": null,
   "metadata": {},
   "outputs": [],
   "source": []
  },
  {
   "cell_type": "code",
   "execution_count": null,
   "metadata": {},
   "outputs": [],
   "source": []
  },
  {
   "cell_type": "code",
   "execution_count": null,
   "metadata": {},
   "outputs": [],
   "source": []
  },
  {
   "cell_type": "code",
   "execution_count": null,
   "metadata": {},
   "outputs": [],
   "source": []
  },
  {
   "cell_type": "code",
   "execution_count": 27,
   "metadata": {},
   "outputs": [
    {
     "data": {
      "text/plain": [
       "'<HTML>\\n\\t<HEAD>\\n\\t\\t<TITLE>Web Sudoku - Billions of Free Sudoku Puzzles to Play Online</TITLE>\\n\\t\\t<META HTTP-EQUIV=\"Content-Type\" CONTENT=\"text/html; charset=UTF-8\">\\n        <meta id = \"mobileviewport\" name=\"viewport\" content=\"width=device-width, initial-scale=1\">\\n\\t\\t<LINK REL=\"stylesheet\" TYPE=\"text/css\" HREF=\"style26.css\">\\n\\n\\n\\t\\t<SCRIPT language=\"JavaScript\"><!--\\n\\t\\t\\tvar w_c=1;\\n\\t\\t\\tvar w_s=0;\\n\\t\\t\\tvar e_m=0;\\n\\t\\t\\tvar m_c=\\'<FONT COLOR=green><B>Back to the start, we go!</B></FONT>\\';\\n\\t\\t\\tvar m_m=\\'<FONT COLOR=red><B>You have made some mistakes, highlighted in red!</B></FONT>\\';\\n\\t\\t\\tvar m_w=\\'<FONT COLOR=purple><B>Something is not quite right in * of the cells!</B></FONT>\\';\\n\\t\\t\\tvar m_i=\\'<FONT COLOR=blue><B>Everything is OK, you still have * to go!</B></FONT>\\';\\n\\t\\t\\tvar m_d=\\'<B>Here is the puzzle. Good luck!</B>\\';\\n\\t\\t\\tvar s_c=false;\\n\\t\\t\\tvar cheat=\\'368947215745621983219583647192374568453869721876152394531496872624738159987215436\\';\\n\\t\\t\\tvar prefix=\\'55vzj\\';\\n\\t\\t\\tvar pid=\\'610926282\\';\\n\\t\\t// --></SCRIPT>\\n\\t\\t<SCRIPT TYPE=\"text/javascript\" SRC=\"index30.js\"></SCRIPT>\\n\\t\\t\\n<script type=\"text/javascript\">\\n    var adsStart = (new Date()).getTime();\\n    function detectWidth() {\\n        return window.screen.width || window.innerWidth && document.documentElement.clientWidth ? Math.min(window.innerWidth, document.documentElement.clientWidth) : window.innerWidth || document.documentElement.clientWidth || document.getElementsByTagName(\\'body\\')[0].clientWidth;\\n    }\\n    var TIMEOUT = 2000;\\n    var googletag = googletag || {};\\n    googletag.cmd = googletag.cmd || [];\\n    var pbjs = pbjs || {};\\n    pbjs.que = pbjs.que || [];\\n    var adUnits = adUnits || [];\\n    function initAdServer() {\\n        if (pbjs.initAdserverSet) return;\\n        (function() {\\n            var gads = document.createElement(\\'script\\');\\n            gads.async = true;\\n            gads.type = \\'text/javascript\\';\\n            var useSSL = \\'https:\\' == document.location.protocol;\\n            gads.src = (useSSL ? \\'https:\\' : \\'http:\\') +\\n                \\'//www.googletagservices.com/tag/js/gpt.js\\';\\n            var node = document.getElementsByTagName(\\'script\\')[0];\\n            node.parentNode.insertBefore(gads, node);\\n        })();\\n        pbjs.initAdserverSet = true;\\n    };\\n    pbjs.timeout = setTimeout(initAdServer, TIMEOUT);\\n    pbjs.timeStart = adsStart;\\n    pbjs.refreshRate = 120000;\\n//    pbjs.refreshEnabledForAll = false;\\n\\n    var dfpNetwork = \\'232881841\\';\\n    /* Start: defining adunits*/\\n        adUnits.push({\\n            network: dfpNetwork,\\n            adunit: \\'WS_300v\\',\\n            size: [[300,250],[336,280]],\\n            code: \\'div-gpt-ad-WS_300v\\'\\n        });  \\n        adUnits.push({\\n            network: dfpNetwork,\\n            adunit: \\'WS_728v\\',\\n            size: [[728,90]],\\n            code: \\'div-gpt-ad-WS_728v\\'\\n        });                   \\n    /* End: defining adunits*/\\n    googletag.cmd.push(function() {\\n      if(adUnits){\\n        for (var i = 0, len = adUnits.length; i < len; i++) {\\n          googletag.defineSlot(\\'/\\'+adUnits[i].network+\\'/\\'+adUnits[i].adunit, adUnits[i].size, adUnits[i].code).addService(googletag.pubads());\\n        }\\n      }\\n    });\\n    googletag.cmd.push(function() {\\n        pbjs.que.push(function() {pbjs.setTargetingForGPTAsync();});\\n        googletag.pubads().collapseEmptyDivs();\\n        googletag.pubads().enableSingleRequest();\\n        googletag.enableServices();\\n    });\\n</script>\\n<script type=\"text/javascript\" async src=\"//cdn.adapex.io/hb/aaw.ws.js\"></script>\\n\\n\\t\\t<!-- The HTML code and text in this document are copyright. Infringers of copyright will be prosecuted. -->\\n\\t</HEAD>\\n\\t\\n\\t<BODY BGCOLOR=\"#F9F9FF\" onLoad=\"j3(-1);\"><TABLE WIDTH=100% HEIGHT=100% CELLSPACING=16 BORDER=0><TR>\\t<TD id=\"left-column\" WIDTH=\"248\">\\n\\t\\t\\t<TABLE WIDTH=\"248\" CELLSPACING=0 BORDER=0 HEIGHT=100%>\\n\\t\\t\\t\\t<TR><TD VALIGN=top ALIGN=center >\\n\\t\\t\\t\\t\\t<SCRIPT language=\"JavaScript\"><!--\\n\\t\\t\\t\\t\\t\\tj0();\\n\\t\\t\\t\\t\\t// --></SCRIPT>\\n<P STYLE=\"font-size:8pt; margin:0;\"><B>English</B> &nbsp; <A HREF=\"http://fr.websudoku.com/\" TARGET=\"_top\" TITLE=\"Web Sudoku - Des Milliards de Sudokus Gratuits pour Jouer en Ligne\">Fran\\xc3\\xa7ais</A> &nbsp; <A HREF=\"http://de.websudoku.com/\" TARGET=\"_top\" TITLE=\"Web Sudoku - Milliarden Kostenlose Online-Sudokus\">Deutsch</A> &nbsp; <A HREF=\"http://es.websudoku.com/\" TARGET=\"_top\" TITLE=\"Web Sudoku - Billones de rompecabezas sudoku gratis a los que jugar en L\\xc3\\xadnea\">Espa\\xc3\\xb1ol</A> </P>\\t\\t\\t\\t\\t<P CLASS=tm STYLE=\"margin:18px 0\"><IMG SRC=\"logo-108x108.gif\" HEIGHT=108 WIDTH=108 BORDER=0></P>\\n\\t\\t\\t\\t\\t<P CLASS=tm STYLE=\"font-size:12pt\"><B>Easy</B> &nbsp; <A HREF=\"//www.websudoku.com/?level=2\" TARGET=\"_top\"><B>Medium</B></A> &nbsp; <A HREF=\"//www.websudoku.com/?level=3\" TARGET=\"_top\"><B>Hard</B></A> &nbsp; <A HREF=\"//www.websudoku.com/?level=4\" TARGET=\"_top\"><B>Evil</B></A> </P>\\n\\t\\t\\t\\t\\t<P CLASS=tm STYLE=\"font-size:10pt\">\\n\\t\\t\\t\\t\\t<A HREF=\"http://www.jigsawdoku.com/\" TARGET=\"_top\" TITLE=\"Play Sudoku in color, plus 4x4 and 6x6 for beginners!\"><B>JigSawDoku</B></A>\\n\\t\\t\\t\\t\\t&nbsp;\\n\\t\\t\\t\\t\\t<A HREF=\"//www.websudoku.com/variation/\" TARGET=\"_top\" TITLE=\"Print a Sudoku variation! Samurai, Squiggly and more...\"><B>Variations</B></A>\\n\\t\\t\\t\\t\\t&nbsp;\\n\\t\\t\\t\\t\\t<A HREF=\"//www.websudoku.com/deluxe.php?l0\" TARGET=\"_top\" TITLE=\"Download Web Sudoku Deluxe to Play Offline!\"><B>Download</B></A>\\n\\t\\t\\t\\t\\t<P CLASS=tm STYLE=\"font-size:9pt;\">\\n<A HREF=\"//www.websudoku.com/?pic-a-pix\" TARGET=\"_top\"><B>Pic-a-Pix</B></A> &nbsp; <A HREF=\"//www.websudoku.com/?fill-a-pix\" TARGET=\"_top\"><B>Fill-a-Pix</B></A> &nbsp; <A HREF=\"//www.websudoku.com/?hashi\" TARGET=\"_top\"><B>Hashi</B></A> &nbsp; <A HREF=\"//www.websudoku.com/?calcudoku\" TARGET=\"_top\"><B>CalcuDoku</B></A>\\t\\t\\t\\t\\t</P>\\n\\t\\t\\t\\t\\t</P>\\n\\t\\t\\t\\t\\t<P CLASS=tm STYLE=\"padding-top:6px; padding-bottom:12px; margin:18px 0;\">Every <A HREF=\"http://en.wikipedia.org/wiki/Sudoku\" TARGET=\"_top\">Sudoku</A> has a unique solution that can be reached logically. Enter numbers into the blank spaces so that each row, column and 3x3 box contains the numbers 1&nbsp;to&nbsp;9 without repeats.</P>\\n\\t\\t\\t\\t\\t<P CLASS=tm STYLE=\"font-size:10pt;\"><A HREF=\"//www.websudoku.com/deluxe.php?l\" TARGET=\"_top\" TITLE=\"Play Offline, Full Screen, Extra Features!\"><B><U>Play Offline with Web Sudoku Deluxe</U></B><br><IMG SRC=\"green-arrow.gif\" ALIGN=\"baseline\" WIDTH=\"11\" HEIGHT=\"11\" BORDER=\"0\" STYLE=\"position:relative; top:1px; left:-5px;\"><FONT COLOR=\"#006600\">Download for Windows and Mac</FONT></A></P>\\n\\t\\t\\t\\t\\t<P CLASS=tm STYLE=\"font-size:10pt\"><A HREF=\"//www.websudoku.com/ebook.php?l\" TARGET=\"_top\" TITLE=\"Choose your own Puzzles and Levels!\"><B><U>Create your own Sudoku Ebook</U></B></A></P>\\n\\t\\t\\t\\t\\t<P CLASS=tm STYLE=\"font-size:10pt\"><a href=\"https://play.google.com/store/apps/details?id=com.websudoku.app&referrer=utm_source%3Dwebsudoku%26utm_medium%3Dreferral%26utm_campaign%3Dleft_link\" target=\"_top\"><B><U>Web Sudoku for Android</U></B></a> and <a href=\"https://itunes.apple.com/us/app/web-sudoku/id786161944?mt=8&uo=4&at=11l558\" target=\"_top\"><B><U>iPad</U></B></a>:</P>\\n\\t\\t\\t\\t\\t<P STYLE=\"margin-top:6px;\"><a href=\"https://itunes.apple.com/us/app/web-sudoku/id786161944?mt=8&uo=4&at=11l558\" target=\"_top\"><IMG SRC=\"download-app-store.png\" TITLE=\"Web Sudoku app for iPad\" WIDTH=\"135\" HEIGHT=\"40\" BORDER=\"0\"></a> <a href=\"https://play.google.com/store/apps/details?id=com.websudoku.app&referrer=utm_source%3Dwebsudoku%26utm_medium%3Dreferral%26utm_campaign%3Dleft_button\" target=\"_top\"><IMG SRC=\"get-it-google-play.png\" TITLE=\"Web Sudoku app for Android\" WIDTH=\"117\" HEIGHT=\"40\" BORDER=\"0\"></a></P>\\n\\t\\t\\t\\t\\t<script>\\n  (function(i,s,o,g,r,a,m){i[\\'GoogleAnalyticsObject\\']=r;i[r]=i[r]||function(){\\n  (i[r].q=i[r].q||[]).push(arguments)},i[r].l=1*new Date();a=s.createElement(o),\\n  m=s.getElementsByTagName(o)[0];a.async=1;a.src=g;m.parentNode.insertBefore(a,m)\\n  })(window,document,\\'script\\',\\'//www.google-analytics.com/analytics.js\\',\\'ga\\');\\n\\n  ga(\\'create\\', \\'UA-1165533-17\\', \\'auto\\');\\n  ga(\\'send\\', \\'pageview\\');\\n\\n</script>\\t\\t\\t\\t</TD></TR>\\n\\t\\t\\t\\t<TR><TD VALIGN=bottom NOWRAP ALIGN=center>\\n\\t\\t\\t\\t\\t<P CLASS=tm><B><A HREF=\"//www.websudoku.com/syndication.php\" TARGET=\"_top\" TITLE=\"Sudoku puzzle syndication for newspapers, magazines, websites, books and more.\">Syndication</A> | <A HREF=\"//www.websudoku.com/books/\" TARGET=\"_top\" TITLE=\"Our unique Sudoku books with online solving guides\">Books</A> | <A HREF=\"//www.websudoku.com/widget.php\" TARGET=\"_top\" TITLE=\"Add Sudoku to your website or blog\">Widget</A> | <A HREF=\"//www.websudoku.com/ipad-android.php\" TARGET=\"_top\" TITLE=\"Web Sudoku for iPad and Android\">iPad / Android</A></B></P>\\n\\t\\t\\t\\t\\t<P CLASS=tm STYLE=\"margin-top:4pt;\"><B><A HREF=\"//www.websudoku.com/about.php\" TARGET=\"_top\" TITLE=\"More information about Web Sudoku\">About Us</A> | <A HREF=\"//www.websudoku.com/faqs.php\" TARGET=\"_top\" TITLE=\"Frequently Asked Questions\">FAQs</A> | <A HREF=\"//www.websudoku.com/feedback.php\" TARGET=\"_top\" TITLE=\"Send feedback to Web Sudoku\">Feedback</A> | <A HREF=\"//www.websudoku.com/privacy.php\" TARGET=\"_top\" TITLE=\"Our full privacy statement\">Privacy Policy</A></B></P>\\n\\t\\t\\t\\t</TD></TR>\\n\\t\\t\\t</TABLE>\\n\\t\\t</TD>\\n\\t\\t\\n\\t\\t<TD id=\"separator\" WIDTH=1 BGCOLOR=#999999><IMG SRC=\"//www.websudoku.com/images/transparent.gif\" WIDTH=1></TD>\\n\\n\\t\\t<TD WIDTH=* BGCOLOR=\"#F9F9FF\" ><TABLE WIDTH=100% HEIGHT=100% CELLSPACING=0>\\n\\n<TR><TD HEIGHT=\"24\" ALIGN=\"right\" STYLE=\"padding-bottom:12px;\"><B><A HREF=\"//www.websudoku.com/?register\" TARGET=\"_top\">Register Free</A> or <A HREF=\"//www.websudoku.com/?signin\" TARGET=\"_top\">Sign In to Web Sudoku</A></B> &nbsp;</TD></TR>\\t\\n\\t\\t\\t<TR VALIGN=\"middle\"><TD ALIGN=\"center\">\\n\\n\\t\\t\\t<FORM NAME=\"board\" METHOD=POST ACTION=\"./\" STYLE=\"margin:0;\">\\n\\n\\t\\t\\t\\n\\t\\t\\t<div id=\"ads_banner\">\\n\\t\\t\\t\\t<p style=\"margin:0 0 6px 0; font-size:8pt;\"><a href=\"#\" onclick=\"var elem=document.getElementById(\\'ads_banner\\'); elem.parentNode.removeChild(elem); return false;\">Hide the ad below</a></p>\\n\\t\\t\\t\\n\\n<div id=\\'div-gpt-ad-WS_728v\\' style=\\'width:728px;height:90px;\\'>\\n<script>\\ngoogletag.cmd.push(function() { googletag.display(\\'div-gpt-ad-WS_728v\\'); });\\n</script>\\n</div>\\n\\n\\t\\t\\t\\n\\t\\t\\t</div>\\n\\n\\n\\t\\t\\t<P STYLE=\"margin-top:36px; margin-bottom:12px;\"><FONT STYLE=\"font-size:;\"><SPAN id=\"message\"><B>Here is the puzzle. Good luck!</B></SPAN></FONT>\\n\\t\\t\\t</P><P STYLE=\"margin:0;\">\\n<DIV id=\"puzzle_container\" STYLE=\"position:relative;\"><TABLE id=\"puzzle_grid\" CELLSPACING=0 CELLPADDING=0 CLASS=t><TR><TD CLASS=g0 ID=c00><INPUT CLASS=d0 SIZE=2 AUTOCOMPLETE=off NAME=55vzj11 MAXLENGTH=1 onBlur=\"j8(this)\" ID=f00></TD><TD CLASS=f0 ID=c10><INPUT CLASS=d0 SIZE=2 AUTOCOMPLETE=off NAME=55vzj21 MAXLENGTH=1 onBlur=\"j8(this)\" ID=f10></TD><TD CLASS=f0 ID=c20><INPUT CLASS=s0 SIZE=2 AUTOCOMPLETE=off NAME=s55vzj31 READONLY VALUE=\"8\" ID=f20></TD><TD CLASS=g0 ID=c30><INPUT CLASS=s0 SIZE=2 AUTOCOMPLETE=off NAME=s55vzj41 READONLY VALUE=\"9\" ID=f30></TD><TD CLASS=f0 ID=c40><INPUT CLASS=d0 SIZE=2 AUTOCOMPLETE=off NAME=55vzj51 MAXLENGTH=1 onBlur=\"j8(this)\" ID=f40></TD><TD CLASS=f0 ID=c50><INPUT CLASS=s0 SIZE=2 AUTOCOMPLETE=off NAME=s55vzj61 READONLY VALUE=\"7\" ID=f50></TD><TD CLASS=g0 ID=c60><INPUT CLASS=s0 SIZE=2 AUTOCOMPLETE=off NAME=s55vzj71 READONLY VALUE=\"2\" ID=f60></TD><TD CLASS=f0 ID=c70><INPUT CLASS=d0 SIZE=2 AUTOCOMPLETE=off NAME=55vzj81 MAXLENGTH=1 onBlur=\"j8(this)\" ID=f70></TD><TD CLASS=f0 ID=c80><INPUT CLASS=d0 SIZE=2 AUTOCOMPLETE=off NAME=55vzj91 MAXLENGTH=1 onBlur=\"j8(this)\" ID=f80></TD></TR><TR><TD CLASS=e0 ID=c01><INPUT CLASS=s0 SIZE=2 AUTOCOMPLETE=off NAME=s55vzj12 READONLY VALUE=\"7\" ID=f01></TD><TD CLASS=c0 ID=c11><INPUT CLASS=d0 SIZE=2 AUTOCOMPLETE=off NAME=55vzj22 MAXLENGTH=1 onBlur=\"j8(this)\" ID=f11></TD><TD CLASS=c0 ID=c21><INPUT CLASS=s0 SIZE=2 AUTOCOMPLETE=off NAME=s55vzj32 READONLY VALUE=\"5\" ID=f21></TD><TD CLASS=e0 ID=c31><INPUT CLASS=d0 SIZE=2 AUTOCOMPLETE=off NAME=55vzj42 MAXLENGTH=1 onBlur=\"j8(this)\" ID=f31></TD><TD CLASS=c0 ID=c41><INPUT CLASS=s0 SIZE=2 AUTOCOMPLETE=off NAME=s55vzj52 READONLY VALUE=\"2\" ID=f41></TD><TD CLASS=c0 ID=c51><INPUT CLASS=d0 SIZE=2 AUTOCOMPLETE=off NAME=55vzj62 MAXLENGTH=1 onBlur=\"j8(this)\" ID=f51></TD><TD CLASS=e0 ID=c61><INPUT CLASS=s0 SIZE=2 AUTOCOMPLETE=off NAME=s55vzj72 READONLY VALUE=\"9\" ID=f61></TD><TD CLASS=c0 ID=c71><INPUT CLASS=d0 SIZE=2 AUTOCOMPLETE=off NAME=55vzj82 MAXLENGTH=1 onBlur=\"j8(this)\" ID=f71></TD><TD CLASS=c0 ID=c81><INPUT CLASS=d0 SIZE=2 AUTOCOMPLETE=off NAME=55vzj92 MAXLENGTH=1 onBlur=\"j8(this)\" ID=f81></TD></TR><TR><TD CLASS=e0 ID=c02><INPUT CLASS=d0 SIZE=2 AUTOCOMPLETE=off NAME=55vzj13 MAXLENGTH=1 onBlur=\"j8(this)\" ID=f02></TD><TD CLASS=c0 ID=c12><INPUT CLASS=s0 SIZE=2 AUTOCOMPLETE=off NAME=s55vzj23 READONLY VALUE=\"1\" ID=f12></TD><TD CLASS=c0 ID=c22><INPUT CLASS=d0 SIZE=2 AUTOCOMPLETE=off NAME=55vzj33 MAXLENGTH=1 onBlur=\"j8(this)\" ID=f22></TD><TD CLASS=e0 ID=c32><INPUT CLASS=d0 SIZE=2 AUTOCOMPLETE=off NAME=55vzj43 MAXLENGTH=1 onBlur=\"j8(this)\" ID=f32></TD><TD CLASS=c0 ID=c42><INPUT CLASS=d0 SIZE=2 AUTOCOMPLETE=off NAME=55vzj53 MAXLENGTH=1 onBlur=\"j8(this)\" ID=f42></TD><TD CLASS=c0 ID=c52><INPUT CLASS=d0 SIZE=2 AUTOCOMPLETE=off NAME=55vzj63 MAXLENGTH=1 onBlur=\"j8(this)\" ID=f52></TD><TD CLASS=e0 ID=c62><INPUT CLASS=d0 SIZE=2 AUTOCOMPLETE=off NAME=55vzj73 MAXLENGTH=1 onBlur=\"j8(this)\" ID=f62></TD><TD CLASS=c0 ID=c72><INPUT CLASS=d0 SIZE=2 AUTOCOMPLETE=off NAME=55vzj83 MAXLENGTH=1 onBlur=\"j8(this)\" ID=f72></TD><TD CLASS=c0 ID=c82><INPUT CLASS=s0 SIZE=2 AUTOCOMPLETE=off NAME=s55vzj93 READONLY VALUE=\"7\" ID=f82></TD></TR><TR><TD CLASS=g0 ID=c03><INPUT CLASS=s0 SIZE=2 AUTOCOMPLETE=off NAME=s55vzj14 READONLY VALUE=\"1\" ID=f03></TD><TD CLASS=f0 ID=c13><INPUT CLASS=s0 SIZE=2 AUTOCOMPLETE=off NAME=s55vzj24 READONLY VALUE=\"9\" ID=f13></TD><TD CLASS=f0 ID=c23><INPUT CLASS=d0 SIZE=2 AUTOCOMPLETE=off NAME=55vzj34 MAXLENGTH=1 onBlur=\"j8(this)\" ID=f23></TD><TD CLASS=g0 ID=c33><INPUT CLASS=s0 SIZE=2 AUTOCOMPLETE=off NAME=s55vzj44 READONLY VALUE=\"3\" ID=f33></TD><TD CLASS=f0 ID=c43><INPUT CLASS=d0 SIZE=2 AUTOCOMPLETE=off NAME=55vzj54 MAXLENGTH=1 onBlur=\"j8(this)\" ID=f43></TD><TD CLASS=f0 ID=c53><INPUT CLASS=d0 SIZE=2 AUTOCOMPLETE=off NAME=55vzj64 MAXLENGTH=1 onBlur=\"j8(this)\" ID=f53></TD><TD CLASS=g0 ID=c63><INPUT CLASS=d0 SIZE=2 AUTOCOMPLETE=off NAME=55vzj74 MAXLENGTH=1 onBlur=\"j8(this)\" ID=f63></TD><TD CLASS=f0 ID=c73><INPUT CLASS=s0 SIZE=2 AUTOCOMPLETE=off NAME=s55vzj84 READONLY VALUE=\"6\" ID=f73></TD><TD CLASS=f0 ID=c83><INPUT CLASS=d0 SIZE=2 AUTOCOMPLETE=off NAME=55vzj94 MAXLENGTH=1 onBlur=\"j8(this)\" ID=f83></TD></TR><TR><TD CLASS=e0 ID=c04><INPUT CLASS=s0 SIZE=2 AUTOCOMPLETE=off NAME=s55vzj15 READONLY VALUE=\"4\" ID=f04></TD><TD CLASS=c0 ID=c14><INPUT CLASS=s0 SIZE=2 AUTOCOMPLETE=off NAME=s55vzj25 READONLY VALUE=\"5\" ID=f14></TD><TD CLASS=c0 ID=c24><INPUT CLASS=s0 SIZE=2 AUTOCOMPLETE=off NAME=s55vzj35 READONLY VALUE=\"3\" ID=f24></TD><TD CLASS=e0 ID=c34><INPUT CLASS=s0 SIZE=2 AUTOCOMPLETE=off NAME=s55vzj45 READONLY VALUE=\"8\" ID=f34></TD><TD CLASS=c0 ID=c44><INPUT CLASS=d0 SIZE=2 AUTOCOMPLETE=off NAME=55vzj55 MAXLENGTH=1 onBlur=\"j8(this)\" ID=f44></TD><TD CLASS=c0 ID=c54><INPUT CLASS=s0 SIZE=2 AUTOCOMPLETE=off NAME=s55vzj65 READONLY VALUE=\"9\" ID=f54></TD><TD CLASS=e0 ID=c64><INPUT CLASS=s0 SIZE=2 AUTOCOMPLETE=off NAME=s55vzj75 READONLY VALUE=\"7\" ID=f64></TD><TD CLASS=c0 ID=c74><INPUT CLASS=s0 SIZE=2 AUTOCOMPLETE=off NAME=s55vzj85 READONLY VALUE=\"2\" ID=f74></TD><TD CLASS=c0 ID=c84><INPUT CLASS=s0 SIZE=2 AUTOCOMPLETE=off NAME=s55vzj95 READONLY VALUE=\"1\" ID=f84></TD></TR><TR><TD CLASS=e0 ID=c05><INPUT CLASS=d0 SIZE=2 AUTOCOMPLETE=off NAME=55vzj16 MAXLENGTH=1 onBlur=\"j8(this)\" ID=f05></TD><TD CLASS=c0 ID=c15><INPUT CLASS=s0 SIZE=2 AUTOCOMPLETE=off NAME=s55vzj26 READONLY VALUE=\"7\" ID=f15></TD><TD CLASS=c0 ID=c25><INPUT CLASS=d0 SIZE=2 AUTOCOMPLETE=off NAME=55vzj36 MAXLENGTH=1 onBlur=\"j8(this)\" ID=f25></TD><TD CLASS=e0 ID=c35><INPUT CLASS=d0 SIZE=2 AUTOCOMPLETE=off NAME=55vzj46 MAXLENGTH=1 onBlur=\"j8(this)\" ID=f35></TD><TD CLASS=c0 ID=c45><INPUT CLASS=d0 SIZE=2 AUTOCOMPLETE=off NAME=55vzj56 MAXLENGTH=1 onBlur=\"j8(this)\" ID=f45></TD><TD CLASS=c0 ID=c55><INPUT CLASS=s0 SIZE=2 AUTOCOMPLETE=off NAME=s55vzj66 READONLY VALUE=\"2\" ID=f55></TD><TD CLASS=e0 ID=c65><INPUT CLASS=d0 SIZE=2 AUTOCOMPLETE=off NAME=55vzj76 MAXLENGTH=1 onBlur=\"j8(this)\" ID=f65></TD><TD CLASS=c0 ID=c75><INPUT CLASS=s0 SIZE=2 AUTOCOMPLETE=off NAME=s55vzj86 READONLY VALUE=\"9\" ID=f75></TD><TD CLASS=c0 ID=c85><INPUT CLASS=s0 SIZE=2 AUTOCOMPLETE=off NAME=s55vzj96 READONLY VALUE=\"4\" ID=f85></TD></TR><TR><TD CLASS=g0 ID=c06><INPUT CLASS=s0 SIZE=2 AUTOCOMPLETE=off NAME=s55vzj17 READONLY VALUE=\"5\" ID=f06></TD><TD CLASS=f0 ID=c16><INPUT CLASS=d0 SIZE=2 AUTOCOMPLETE=off NAME=55vzj27 MAXLENGTH=1 onBlur=\"j8(this)\" ID=f16></TD><TD CLASS=f0 ID=c26><INPUT CLASS=d0 SIZE=2 AUTOCOMPLETE=off NAME=55vzj37 MAXLENGTH=1 onBlur=\"j8(this)\" ID=f26></TD><TD CLASS=g0 ID=c36><INPUT CLASS=d0 SIZE=2 AUTOCOMPLETE=off NAME=55vzj47 MAXLENGTH=1 onBlur=\"j8(this)\" ID=f36></TD><TD CLASS=f0 ID=c46><INPUT CLASS=d0 SIZE=2 AUTOCOMPLETE=off NAME=55vzj57 MAXLENGTH=1 onBlur=\"j8(this)\" ID=f46></TD><TD CLASS=f0 ID=c56><INPUT CLASS=d0 SIZE=2 AUTOCOMPLETE=off NAME=55vzj67 MAXLENGTH=1 onBlur=\"j8(this)\" ID=f56></TD><TD CLASS=g0 ID=c66><INPUT CLASS=d0 SIZE=2 AUTOCOMPLETE=off NAME=55vzj77 MAXLENGTH=1 onBlur=\"j8(this)\" ID=f66></TD><TD CLASS=f0 ID=c76><INPUT CLASS=s0 SIZE=2 AUTOCOMPLETE=off NAME=s55vzj87 READONLY VALUE=\"7\" ID=f76></TD><TD CLASS=f0 ID=c86><INPUT CLASS=d0 SIZE=2 AUTOCOMPLETE=off NAME=55vzj97 MAXLENGTH=1 onBlur=\"j8(this)\" ID=f86></TD></TR><TR><TD CLASS=e0 ID=c07><INPUT CLASS=d0 SIZE=2 AUTOCOMPLETE=off NAME=55vzj18 MAXLENGTH=1 onBlur=\"j8(this)\" ID=f07></TD><TD CLASS=c0 ID=c17><INPUT CLASS=d0 SIZE=2 AUTOCOMPLETE=off NAME=55vzj28 MAXLENGTH=1 onBlur=\"j8(this)\" ID=f17></TD><TD CLASS=c0 ID=c27><INPUT CLASS=s0 SIZE=2 AUTOCOMPLETE=off NAME=s55vzj38 READONLY VALUE=\"4\" ID=f27></TD><TD CLASS=e0 ID=c37><INPUT CLASS=d0 SIZE=2 AUTOCOMPLETE=off NAME=55vzj48 MAXLENGTH=1 onBlur=\"j8(this)\" ID=f37></TD><TD CLASS=c0 ID=c47><INPUT CLASS=s0 SIZE=2 AUTOCOMPLETE=off NAME=s55vzj58 READONLY VALUE=\"3\" ID=f47></TD><TD CLASS=c0 ID=c57><INPUT CLASS=d0 SIZE=2 AUTOCOMPLETE=off NAME=55vzj68 MAXLENGTH=1 onBlur=\"j8(this)\" ID=f57></TD><TD CLASS=e0 ID=c67><INPUT CLASS=s0 SIZE=2 AUTOCOMPLETE=off NAME=s55vzj78 READONLY VALUE=\"1\" ID=f67></TD><TD CLASS=c0 ID=c77><INPUT CLASS=d0 SIZE=2 AUTOCOMPLETE=off NAME=55vzj88 MAXLENGTH=1 onBlur=\"j8(this)\" ID=f77></TD><TD CLASS=c0 ID=c87><INPUT CLASS=s0 SIZE=2 AUTOCOMPLETE=off NAME=s55vzj98 READONLY VALUE=\"9\" ID=f87></TD></TR><TR><TD CLASS=i0 ID=c08><INPUT CLASS=d0 SIZE=2 AUTOCOMPLETE=off NAME=55vzj19 MAXLENGTH=1 onBlur=\"j8(this)\" ID=f08></TD><TD CLASS=h0 ID=c18><INPUT CLASS=d0 SIZE=2 AUTOCOMPLETE=off NAME=55vzj29 MAXLENGTH=1 onBlur=\"j8(this)\" ID=f18></TD><TD CLASS=h0 ID=c28><INPUT CLASS=s0 SIZE=2 AUTOCOMPLETE=off NAME=s55vzj39 READONLY VALUE=\"7\" ID=f28></TD><TD CLASS=i0 ID=c38><INPUT CLASS=s0 SIZE=2 AUTOCOMPLETE=off NAME=s55vzj49 READONLY VALUE=\"2\" ID=f38></TD><TD CLASS=h0 ID=c48><INPUT CLASS=d0 SIZE=2 AUTOCOMPLETE=off NAME=55vzj59 MAXLENGTH=1 onBlur=\"j8(this)\" ID=f48></TD><TD CLASS=h0 ID=c58><INPUT CLASS=s0 SIZE=2 AUTOCOMPLETE=off NAME=s55vzj69 READONLY VALUE=\"5\" ID=f58></TD><TD CLASS=i0 ID=c68><INPUT CLASS=s0 SIZE=2 AUTOCOMPLETE=off NAME=s55vzj79 READONLY VALUE=\"4\" ID=f68></TD><TD CLASS=h0 ID=c78><INPUT CLASS=d0 SIZE=2 AUTOCOMPLETE=off NAME=55vzj89 MAXLENGTH=1 onBlur=\"j8(this)\" ID=f78></TD><TD CLASS=h0 ID=c88><INPUT CLASS=d0 SIZE=2 AUTOCOMPLETE=off NAME=55vzj99 MAXLENGTH=1 onBlur=\"j8(this)\" ID=f88></TD></TR></TABLE></DIV>\\n\\t\\t\\t\\t<INPUT NAME=prefix ID=\"prefix\" TYPE=hidden VALUE=\"55vzj\">\\n\\t\\t\\t\\t<INPUT NAME=start TYPE=hidden VALUE=\"1585472815\">\\n\\t\\t\\t\\t<INPUT NAME=inchallenge TYPE=hidden VALUE=\"\">\\n\\t\\t\\t\\t<INPUT NAME=level TYPE=hidden VALUE=\"1\">\\n\\t\\t\\t\\t<INPUT NAME=id ID=\"pid\" TYPE=hidden VALUE=\"610926282\">\\n\\t\\t\\t\\t<INPUT NAME=cheat ID=\"cheat\" TYPE=hidden VALUE=\"368947215745621983219583647192374568453869721876152394531496872624738159987215436\">\\n\\t\\t\\t\\t<INPUT ID=\"editmask\" TYPE=hidden VALUE=\"110010011010101011101111110001011101000010000101110100011111101110101010110010011\">\\n\\t\\t\\t\\t<INPUT NAME=options TYPE=hidden VALUE=\"1\">\\n\\t\\t\\t\\t<INPUT NAME=errors TYPE=hidden VALUE=\"0\" ID=\"errors\">\\n\\t\\t\\t\\t<INPUT NAME=layout TYPE=hidden VALUE=\"\">\\n\\t\\t\\t<P STYLE=\"margin-top:12pt; margin-bottom:0pt;\"><INPUT NAME=\"jstimer\" ID=\"jstimer\" TYPE=\"hidden\">\\n\\n<FONT STYLE=\"font-size:111%\"><A HREF=\"//www.websudoku.com/?level=1&set_id=610926282\" TARGET=\"_top\" TITLE=\"Copy link for this puzzle\">Easy Puzzle 610,926,282</A>\\t\\t\\t\\n\\t\\t\\t-<SPAN ID=\"timer\"></SPAN>- <A HREF=\"//www.websudoku.com/?select=1&level=1\" TARGET=\"_top\">Select a puzzle...</A></FONT>\\t\\t\\t\\t</P>\\n\\t\\t\\t\\t<P STYLE=\"margin-top: 9pt;\">\\n\\t\\t\\t\\t<INPUT NAME=submit TYPE=submit CLASS=bs VALUE=\"How am I doing?\" onClick=\"j12(); return j1();\"><INPUT NAME=pause TYPE=submit CLASS=bs VALUE=\"Pause\" onClick=\"return j12();\"><INPUT NAME=printopts TYPE=submit CLASS=bs VALUE=\"Print...\" onClick=\"return j12();\"><INPUT NAME=clear TYPE=submit CLASS=bs VALUE=\"Clear\" onClick=\"j12(); return j7(2);\"><INPUT NAME=showopts TYPE=submit CLASS=bs VALUE=\"Options...\" onClick=\"return j12();\">\\n\\t\\t\\t\\t</P>\\n\\n\\t\\t\\t\\t<INPUT NAME=\"jscheat\" ID=\"jscheat\" TYPE=\"hidden\">\\n\\t\\t\\t</FORM>\\n\\t\\t\\t</TD></TR>\\n\\t\\t</TABLE></TD>\\n\\n\\t</TR></TABLE></BODY>\\n</HTML>'"
      ]
     },
     "execution_count": 27,
     "metadata": {},
     "output_type": "execute_result"
    }
   ],
   "source": [
    "page.content"
   ]
  },
  {
   "cell_type": "code",
   "execution_count": null,
   "metadata": {},
   "outputs": [],
   "source": []
  },
  {
   "cell_type": "code",
   "execution_count": null,
   "metadata": {},
   "outputs": [],
   "source": []
  },
  {
   "cell_type": "code",
   "execution_count": null,
   "metadata": {},
   "outputs": [],
   "source": []
  },
  {
   "cell_type": "code",
   "execution_count": null,
   "metadata": {},
   "outputs": [],
   "source": []
  },
  {
   "cell_type": "code",
   "execution_count": null,
   "metadata": {},
   "outputs": [],
   "source": []
  },
  {
   "cell_type": "code",
   "execution_count": 8,
   "metadata": {},
   "outputs": [
    {
     "data": {
      "text/plain": [
       "u'<HTML>\\n<HEAD>\\n<TITLE>Web Sudoku - Billions of Free Sudoku Puzzles to Play Online</TITLE>\\n<META NAME=\"Description\" CONTENT=\"Play unlimited Sudoku online from Easy to Evil. Compatible with all browsers, iPad and Android. Provider of Sudoku puzzles for newspapers and other publications.\">\\n<meta name=\"viewport\" content=\"width=device-width, initial-scale=1\">\\n<script language=\"JavaScript\">\\n    document.domain=\"websudoku.com\";\\n</script>\\n</HEAD>\\n<FRAMESET COLS=\"*\" FRAMEBORDER=\"NO\" FRAMESPACING=\"0\" BORDER=\"0\">\\n<FRAME SRC=\"https://nine.websudoku.com/?set_id=610926282\">\\n</FRAMESET>\\n<NOFRAMES>\\nPlay Sudoku - the number placing game taking the world by storm.\\n<P>\\n<B>We also supply <A HREF=\"services.php\">Sudoku puzzles</A> for newspapers, books, magazines, websites and more.</B>\\n<P>\\nWeb Sudoku &copy; 2020. Protected by Copyscape <A HREF=\"http://www.copyscape.com/\">plagiarism checker</A>.\\nBy <A HREF=\"http://www.gidgreen.com/\">Gideon Greenspan</A> and Rachel Lee.\\n<P>\\nPlease play on our <A HREF=\"https://nine.websudoku.com/?set_id=610926282\">new server</A>.\\n</NOFRAMES>\\n</HTML>\\n'"
      ]
     },
     "execution_count": 8,
     "metadata": {},
     "output_type": "execute_result"
    }
   ],
   "source": [
    "    page.text"
   ]
  },
  {
   "cell_type": "code",
   "execution_count": null,
   "metadata": {},
   "outputs": [],
   "source": []
  },
  {
   "cell_type": "code",
   "execution_count": null,
   "metadata": {},
   "outputs": [],
   "source": [
    "`"
   ]
  },
  {
   "cell_type": "code",
   "execution_count": null,
   "metadata": {},
   "outputs": [],
   "source": []
  },
  {
   "cell_type": "code",
   "execution_count": null,
   "metadata": {},
   "outputs": [],
   "source": []
  }
 ],
 "metadata": {
  "kernelspec": {
   "display_name": "Python 2",
   "language": "python",
   "name": "python2"
  },
  "language_info": {
   "codemirror_mode": {
    "name": "ipython",
    "version": 2
   },
   "file_extension": ".py",
   "mimetype": "text/x-python",
   "name": "python",
   "nbconvert_exporter": "python",
   "pygments_lexer": "ipython2",
   "version": "2.7.17"
  }
 },
 "nbformat": 4,
 "nbformat_minor": 2
}
