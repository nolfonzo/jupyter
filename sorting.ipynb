{
 "cells": [
  {
   "cell_type": "code",
   "execution_count": 102,
   "metadata": {},
   "outputs": [],
   "source": [
    "import collections\n",
    "def qsort(input):\n",
    "    dq = collections.deque()                 \n",
    "    ss = []  #source stack\n",
    "    ds = []  #destination stack\n",
    "    maxrhs=None\n",
    "    minlhs=None\n",
    "    \n",
    "    #load up the input into the source stack\n",
    "    for i in input:\n",
    "        ss.append(i)\n",
    "    \n",
    "    #loop until we've cleared out the source stack\n",
    "    while len(ss)>0:\n",
    "        \n",
    "        #first time around, put first item on the dq\n",
    "        if len(dq)==0:\n",
    "            item=ss.pop()\n",
    "            dq.append(item)\n",
    "            lhs=item\n",
    "            rhs=item\n",
    "             \n",
    "        #loop to move all items of source stack to dest stack except the lhs and rhs items\n",
    "        while len(ss)>0:\n",
    "            item = ss.pop()\n",
    "\n",
    "            #have we found a lhs item?\n",
    "            if item>=lhs and (minlhs==None or item<=minlhs):\n",
    "                if minlhs<>None: ds.append(minlhs)\n",
    "                minlhs=item\n",
    "\n",
    "            #have we found a rhs item?\n",
    "            elif item<=rhs and (maxrhs==None or item>=maxrhs):\n",
    "                if maxrhs<>None: ds.append(maxrhs)\n",
    "                maxrhs=item         \n",
    "\n",
    "            #item not ready to go on dq, move to dest stack            \n",
    "            else:\n",
    "                ds.append(item)\n",
    "\n",
    "        #move the lhs and rhs items to the dq\n",
    "        if maxrhs<>None: dq.appendleft(maxrhs)\n",
    "        if minlhs<>None: dq.append(minlhs)\n",
    "        print \"items left on the stack: \" + str(ds) + \" items on dqueue: \" + str(dq)\n",
    "        \n",
    "        #swizzle source and dest stacks so we can loop again\n",
    "        ss=ds\n",
    "        ds=[]\n",
    "        minlhs=None\n",
    "        maxrhs=None\n",
    "    return dq"
   ]
  },
  {
   "cell_type": "code",
   "execution_count": 104,
   "metadata": {
    "scrolled": false
   },
   "outputs": [
    {
     "name": "stdout",
     "output_type": "stream",
     "text": [
      "items left on the stack: [9, 8, 5, 7, 6, 3, 2, 3, 1] items on dqueue: deque([0, 0])\n",
      "items left on the stack: [3, 2, 3, 6, 7, 5, 8, 9] items on dqueue: deque([0, 0, 1])\n",
      "items left on the stack: [9, 8, 7, 6, 5, 3, 3] items on dqueue: deque([0, 0, 1, 2])\n",
      "items left on the stack: [3, 5, 6, 7, 8, 9] items on dqueue: deque([0, 0, 1, 2, 3])\n",
      "items left on the stack: [9, 8, 7, 6, 5] items on dqueue: deque([0, 0, 1, 2, 3, 3])\n",
      "items left on the stack: [6, 7, 8, 9] items on dqueue: deque([0, 0, 1, 2, 3, 3, 5])\n",
      "items left on the stack: [9, 8, 7] items on dqueue: deque([0, 0, 1, 2, 3, 3, 5, 6])\n",
      "items left on the stack: [8, 9] items on dqueue: deque([0, 0, 1, 2, 3, 3, 5, 6, 7])\n",
      "items left on the stack: [9] items on dqueue: deque([0, 0, 1, 2, 3, 3, 5, 6, 7, 8])\n",
      "items left on the stack: [] items on dqueue: deque([0, 0, 1, 2, 3, 3, 5, 6, 7, 8, 9])\n"
     ]
    },
    {
     "data": {
      "text/plain": [
       "deque([0, 0, 1, 2, 3, 3, 5, 6, 7, 8, 9])"
      ]
     },
     "execution_count": 104,
     "metadata": {},
     "output_type": "execute_result"
    }
   ],
   "source": [
    "qsort([0,3,1,2,6,7,5,3,9,8,0])"
   ]
  },
  {
   "cell_type": "code",
   "execution_count": null,
   "metadata": {},
   "outputs": [],
   "source": []
  },
  {
   "cell_type": "code",
   "execution_count": null,
   "metadata": {},
   "outputs": [],
   "source": []
  },
  {
   "cell_type": "code",
   "execution_count": null,
   "metadata": {},
   "outputs": [],
   "source": []
  },
  {
   "cell_type": "code",
   "execution_count": null,
   "metadata": {},
   "outputs": [],
   "source": []
  },
  {
   "cell_type": "code",
   "execution_count": null,
   "metadata": {},
   "outputs": [],
   "source": []
  },
  {
   "cell_type": "code",
   "execution_count": null,
   "metadata": {},
   "outputs": [],
   "source": []
  },
  {
   "cell_type": "code",
   "execution_count": null,
   "metadata": {},
   "outputs": [],
   "source": []
  },
  {
   "cell_type": "code",
   "execution_count": null,
   "metadata": {},
   "outputs": [],
   "source": []
  },
  {
   "cell_type": "code",
   "execution_count": null,
   "metadata": {},
   "outputs": [],
   "source": []
  },
  {
   "cell_type": "code",
   "execution_count": null,
   "metadata": {},
   "outputs": [],
   "source": []
  },
  {
   "cell_type": "code",
   "execution_count": null,
   "metadata": {},
   "outputs": [],
   "source": []
  },
  {
   "cell_type": "code",
   "execution_count": null,
   "metadata": {},
   "outputs": [],
   "source": []
  },
  {
   "cell_type": "code",
   "execution_count": null,
   "metadata": {},
   "outputs": [],
   "source": []
  },
  {
   "cell_type": "code",
   "execution_count": null,
   "metadata": {},
   "outputs": [],
   "source": []
  },
  {
   "cell_type": "code",
   "execution_count": null,
   "metadata": {},
   "outputs": [],
   "source": []
  },
  {
   "cell_type": "code",
   "execution_count": null,
   "metadata": {},
   "outputs": [],
   "source": []
  },
  {
   "cell_type": "code",
   "execution_count": null,
   "metadata": {},
   "outputs": [],
   "source": []
  },
  {
   "cell_type": "code",
   "execution_count": null,
   "metadata": {},
   "outputs": [],
   "source": []
  },
  {
   "cell_type": "code",
   "execution_count": null,
   "metadata": {},
   "outputs": [],
   "source": []
  },
  {
   "cell_type": "code",
   "execution_count": null,
   "metadata": {},
   "outputs": [],
   "source": []
  },
  {
   "cell_type": "code",
   "execution_count": null,
   "metadata": {},
   "outputs": [],
   "source": []
  },
  {
   "cell_type": "code",
   "execution_count": null,
   "metadata": {},
   "outputs": [],
   "source": []
  },
  {
   "cell_type": "code",
   "execution_count": null,
   "metadata": {},
   "outputs": [],
   "source": []
  },
  {
   "cell_type": "code",
   "execution_count": null,
   "metadata": {},
   "outputs": [],
   "source": []
  },
  {
   "cell_type": "code",
   "execution_count": null,
   "metadata": {},
   "outputs": [],
   "source": []
  },
  {
   "cell_type": "code",
   "execution_count": null,
   "metadata": {},
   "outputs": [],
   "source": []
  },
  {
   "cell_type": "code",
   "execution_count": null,
   "metadata": {},
   "outputs": [],
   "source": []
  },
  {
   "cell_type": "code",
   "execution_count": null,
   "metadata": {},
   "outputs": [],
   "source": []
  },
  {
   "cell_type": "code",
   "execution_count": null,
   "metadata": {},
   "outputs": [],
   "source": []
  },
  {
   "cell_type": "code",
   "execution_count": null,
   "metadata": {},
   "outputs": [],
   "source": []
  },
  {
   "cell_type": "code",
   "execution_count": null,
   "metadata": {},
   "outputs": [],
   "source": []
  },
  {
   "cell_type": "code",
   "execution_count": null,
   "metadata": {},
   "outputs": [],
   "source": []
  },
  {
   "cell_type": "code",
   "execution_count": null,
   "metadata": {},
   "outputs": [],
   "source": []
  },
  {
   "cell_type": "code",
   "execution_count": null,
   "metadata": {},
   "outputs": [],
   "source": []
  },
  {
   "cell_type": "code",
   "execution_count": null,
   "metadata": {},
   "outputs": [],
   "source": []
  },
  {
   "cell_type": "code",
   "execution_count": null,
   "metadata": {},
   "outputs": [],
   "source": []
  },
  {
   "cell_type": "code",
   "execution_count": null,
   "metadata": {},
   "outputs": [],
   "source": []
  },
  {
   "cell_type": "code",
   "execution_count": null,
   "metadata": {},
   "outputs": [],
   "source": []
  },
  {
   "cell_type": "code",
   "execution_count": null,
   "metadata": {},
   "outputs": [],
   "source": []
  },
  {
   "cell_type": "code",
   "execution_count": null,
   "metadata": {},
   "outputs": [],
   "source": []
  },
  {
   "cell_type": "code",
   "execution_count": null,
   "metadata": {},
   "outputs": [],
   "source": []
  },
  {
   "cell_type": "code",
   "execution_count": null,
   "metadata": {},
   "outputs": [],
   "source": []
  }
 ],
 "metadata": {
  "kernelspec": {
   "display_name": "Python 2",
   "language": "python",
   "name": "python2"
  }
 },
 "nbformat": 4,
 "nbformat_minor": 2
}
