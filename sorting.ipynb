{
 "cells": [
  {
   "cell_type": "code",
   "execution_count": 59,
   "metadata": {},
   "outputs": [],
   "source": [
    "import collections\n",
    "def qsort(input):\n",
    "    dq = collections.deque()                 \n",
    "    ss = []  #source stack\n",
    "    ds = []  #destination stack\n",
    "    max=None\n",
    "    \n",
    "    #load up the input into the source stack\n",
    "    for i in input:\n",
    "        ss.append(i)\n",
    "    \n",
    "    #loop until we've cleared out the source stack\n",
    "    while len(ss)>0:\n",
    "        \n",
    "        #loop to move all items of source stack to dest stack except max\n",
    "        while len(ss)>0:\n",
    "            item = ss.pop()\n",
    "            if item>max: \n",
    "                #old max isn't good, so move it to the dest stack, set new max\n",
    "                if max<>None: ds.append(max)\n",
    "                max=item\n",
    "            else:\n",
    "                #not a max, move to dest stack\n",
    "                ds.append(item)\n",
    "\n",
    "        #move the max to the dq\n",
    "        dq.append(max)\n",
    "        print \"items left on the stack: \" + str(ds) + \" items on dqueue: \" + str(dq)\n",
    "        \n",
    "        #swizzle source and dest stacks so we can loop again\n",
    "        ss=ds\n",
    "        ds=[]\n",
    "        max=None\n",
    "    return dq"
   ]
  },
  {
   "cell_type": "code",
   "execution_count": null,
   "metadata": {},
   "outputs": [],
   "source": []
  },
  {
   "cell_type": "code",
   "execution_count": 60,
   "metadata": {
    "scrolled": false
   },
   "outputs": [
    {
     "name": "stdout",
     "output_type": "stream",
     "text": [
      "items left on the stack: [3, 6, 2, 1, 3] items on dqueue: deque([7])\n",
      "items left on the stack: [1, 2, 3, 3] items on dqueue: deque([7, 6])\n",
      "items left on the stack: [3, 2, 1] items on dqueue: deque([7, 6, 3])\n",
      "items left on the stack: [1, 2] items on dqueue: deque([7, 6, 3, 3])\n",
      "items left on the stack: [1] items on dqueue: deque([7, 6, 3, 3, 2])\n",
      "items left on the stack: [] items on dqueue: deque([7, 6, 3, 3, 2, 1])\n"
     ]
    },
    {
     "data": {
      "text/plain": [
       "deque([7, 6, 3, 3, 2, 1])"
      ]
     },
     "execution_count": 60,
     "metadata": {},
     "output_type": "execute_result"
    }
   ],
   "source": [
    "qsort([3,1,2,6,3,7])"
   ]
  },
  {
   "cell_type": "code",
   "execution_count": null,
   "metadata": {},
   "outputs": [],
   "source": []
  },
  {
   "cell_type": "code",
   "execution_count": null,
   "metadata": {},
   "outputs": [],
   "source": []
  }
 ],
 "metadata": {
  "kernelspec": {
   "display_name": "Python 2",
   "language": "python",
   "name": "python2"
  },
  "language_info": {
   "codemirror_mode": {
    "name": "ipython",
    "version": 2
   },
   "file_extension": ".py",
   "mimetype": "text/x-python",
   "name": "python",
   "nbconvert_exporter": "python",
   "pygments_lexer": "ipython2",
   "version": "2.7.17"
  }
 },
 "nbformat": 4,
 "nbformat_minor": 2
}
