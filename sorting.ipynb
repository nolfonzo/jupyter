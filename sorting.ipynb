{
 "cells": [
  {
   "cell_type": "code",
   "execution_count": 55,
   "metadata": {},
   "outputs": [],
   "source": [
    "import collections\n",
    "def qsort(input):\n",
    "    dq = collections.deque()                 \n",
    "    ss = []  #source stack\n",
    "    ds = []  #destination stack\n",
    "    max=None\n",
    "    \n",
    "    #load up the input into the ssource stack\n",
    "    for i in input:\n",
    "        ss.append(i)\n",
    "    \n",
    "    #loop until we've cleared the source stack\n",
    "    while len(ss)>0:\n",
    "        \n",
    "        #loop to move all items of source to dest stack except max\n",
    "        while len(ss)>0:\n",
    "            item = ss.pop()\n",
    "            if item>max: \n",
    "                #old max isn't good, so move to to dest, set new max\n",
    "                if max<>None: ds.append(max)\n",
    "                max=item\n",
    "            else:\n",
    "                #not a max, move to dest stack\n",
    "                ds.append(item)\n",
    "\n",
    "        #move the max to the dq\n",
    "        dq.append(max)\n",
    "        print \"ds: \" + str(ds) + \" dq: \" + str(dq)\n",
    "        \n",
    "        #swizzle source and dest stacks so we can loop again\n",
    "        ss=ds\n",
    "        ds=[]\n",
    "        max=None\n",
    "    return dq"
   ]
  },
  {
   "cell_type": "code",
   "execution_count": 56,
   "metadata": {
    "scrolled": false
   },
   "outputs": [
    {
     "name": "stdout",
     "output_type": "stream",
     "text": [
      "ds: [3, 6, 2, 1, 3] dq: deque([7])\n",
      "ds: [1, 2, 3, 3] dq: deque([7, 6])\n",
      "ds: [3, 2, 1] dq: deque([7, 6, 3])\n",
      "ds: [1, 2] dq: deque([7, 6, 3, 3])\n",
      "ds: [1] dq: deque([7, 6, 3, 3, 2])\n",
      "ds: [] dq: deque([7, 6, 3, 3, 2, 1])\n"
     ]
    },
    {
     "data": {
      "text/plain": [
       "deque([7, 6, 3, 3, 2, 1])"
      ]
     },
     "execution_count": 56,
     "metadata": {},
     "output_type": "execute_result"
    }
   ],
   "source": [
    "qsort([3,1,2,6,3,7])"
   ]
  }
 ],
 "metadata": {
  "kernelspec": {
   "display_name": "Python 2",
   "language": "python",
   "name": "python2"
  },
  "language_info": {
   "codemirror_mode": {
    "name": "ipython",
    "version": 2
   },
   "file_extension": ".py",
   "mimetype": "text/x-python",
   "name": "python",
   "nbconvert_exporter": "python",
   "pygments_lexer": "ipython2",
   "version": "2.7.17"
  }
 },
 "nbformat": 4,
 "nbformat_minor": 2
}
